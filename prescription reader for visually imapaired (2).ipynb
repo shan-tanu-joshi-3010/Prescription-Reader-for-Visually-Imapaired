{
 "cells": [
  {
   "cell_type": "code",
   "execution_count": 1,
   "id": "4b6a7f71-5ad4-4c96-b5c4-f400fee9fdf2",
   "metadata": {},
   "outputs": [
    {
     "name": "stdout",
     "output_type": "stream",
     "text": [
      "Requirement already satisfied: gtts in c:\\users\\nikku\\appdata\\local\\programs\\python\\python312\\lib\\site-packages (2.5.3)\n",
      "Requirement already satisfied: requests<3,>=2.27 in c:\\users\\nikku\\appdata\\local\\programs\\python\\python312\\lib\\site-packages (from gtts) (2.31.0)\n",
      "Requirement already satisfied: click<8.2,>=7.1 in c:\\users\\nikku\\appdata\\local\\programs\\python\\python312\\lib\\site-packages (from gtts) (8.1.7)\n",
      "Requirement already satisfied: colorama in c:\\users\\nikku\\appdata\\local\\programs\\python\\python312\\lib\\site-packages (from click<8.2,>=7.1->gtts) (0.4.6)\n",
      "Requirement already satisfied: charset-normalizer<4,>=2 in c:\\users\\nikku\\appdata\\local\\programs\\python\\python312\\lib\\site-packages (from requests<3,>=2.27->gtts) (3.3.2)\n",
      "Requirement already satisfied: idna<4,>=2.5 in c:\\users\\nikku\\appdata\\local\\programs\\python\\python312\\lib\\site-packages (from requests<3,>=2.27->gtts) (3.6)\n",
      "Requirement already satisfied: urllib3<3,>=1.21.1 in c:\\users\\nikku\\appdata\\local\\programs\\python\\python312\\lib\\site-packages (from requests<3,>=2.27->gtts) (2.1.0)\n",
      "Requirement already satisfied: certifi>=2017.4.17 in c:\\users\\nikku\\appdata\\local\\programs\\python\\python312\\lib\\site-packages (from requests<3,>=2.27->gtts) (2023.11.17)\n",
      "Note: you may need to restart the kernel to use updated packages.\n"
     ]
    }
   ],
   "source": [
    "pip install gtts"
   ]
  },
  {
   "cell_type": "code",
   "execution_count": 11,
   "id": "88e809f3-8b46-4616-9cf0-1a13efd21904",
   "metadata": {},
   "outputs": [
    {
     "name": "stdout",
     "output_type": "stream",
     "text": [
      "Image saved\n"
     ]
    }
   ],
   "source": [
    "import cv2\n",
    "import pytesseract\n",
    "import numpy as np\n",
    "from PIL import Image\n",
    "import time\n",
    "\n",
    "# Initialize the camera (use index 0 for the first camera)\n",
    "camera = cv2.VideoCapture(1)\n",
    "start_time = time.time()\n",
    "\n",
    "while True:\n",
    "    ret, frame = camera.read()  # Read the frame\n",
    "    if not ret:\n",
    "        print(\"Failed to capture image\")\n",
    "        break\n",
    "\n",
    "    # Show the frame\n",
    "    cv2.imshow(\"Text Detection\", frame)\n",
    "\n",
    "    # Check if 10 seconds have passed\n",
    "    if time.time() - start_time >= 10:\n",
    "        cv2.imwrite('Prescription.jpg', frame)  # Save the image\n",
    "        print(\"Image saved\")\n",
    "        break\n",
    "\n",
    "    # Check for key press to exit (press 'q' to quit)\n",
    "    if cv2.waitKey(1) & 0xFF == ord('q'):\n",
    "        break\n",
    "\n",
    "# Release the camera and close windows\n",
    "camera.release()\n",
    "cv2.destroyAllWindows()\n"
   ]
  },
  {
   "cell_type": "code",
   "execution_count": 12,
   "id": "f22d8810-ea9a-45d5-ab60-5ccba2e9f15a",
   "metadata": {},
   "outputs": [
    {
     "name": "stdout",
     "output_type": "stream",
     "text": [
      "DOON UNIVERSITY, DEHRADUN\n",
      "\n"
     ]
    }
   ],
   "source": [
    "gray = cv2.cvtColor(frame, cv2.COLOR_BGR2GRAY)\n",
    "_, thresh = cv2.threshold(gray, 150, 255, cv2.THRESH_BINARY)\n",
    "text = pytesseract.image_to_string(thresh)\n",
    "print(text)"
   ]
  },
  {
   "cell_type": "code",
   "execution_count": 13,
   "id": "5d02e3df-1e02-4f52-811d-b23730c08b20",
   "metadata": {},
   "outputs": [
    {
     "data": {
      "text/html": [
       "\n",
       "                <audio  controls=\"controls\" autoplay=\"autoplay\">\n",
       "                    <source src=\"data:audio/mpeg;base64,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\" type=\"audio/mpeg\" />\n",
       "                    Your browser does not support the audio element.\n",
       "                </audio>\n",
       "              "
      ],
      "text/plain": [
       "<IPython.lib.display.Audio object>"
      ]
     },
     "execution_count": 13,
     "metadata": {},
     "output_type": "execute_result"
    }
   ],
   "source": [
    "from gtts import gTTS\n",
    "from IPython.display import Audio\n",
    "language = 'en'\n",
    "output = gTTS(text = text, lang = language, slow = False)\n",
    "output.save('output.mp3')\n",
    "Audio('output.mp3', autoplay = True)"
   ]
  },
  {
   "cell_type": "code",
   "execution_count": null,
   "id": "6c7f626b-c266-41ca-966e-7b1b531722e3",
   "metadata": {},
   "outputs": [],
   "source": []
  },
  {
   "cell_type": "code",
   "execution_count": null,
   "id": "7e4cf1a1-267f-4b44-add6-34516df85092",
   "metadata": {},
   "outputs": [],
   "source": []
  }
 ],
 "metadata": {
  "kernelspec": {
   "display_name": "Python 3 (ipykernel)",
   "language": "python",
   "name": "python3"
  },
  "language_info": {
   "codemirror_mode": {
    "name": "ipython",
    "version": 3
   },
   "file_extension": ".py",
   "mimetype": "text/x-python",
   "name": "python",
   "nbconvert_exporter": "python",
   "pygments_lexer": "ipython3",
   "version": "3.12.6"
  }
 },
 "nbformat": 4,
 "nbformat_minor": 5
}
